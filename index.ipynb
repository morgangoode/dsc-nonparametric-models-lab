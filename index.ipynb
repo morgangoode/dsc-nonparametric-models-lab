{
  "cells": [
    {
      "cell_type": "code",
      "source": [
        "# uploading files\n",
        "# source: https://towardsdatascience.com/3-ways-to-load-csv-files-into-colab-7c14fcbdcb92\n",
        "from google.colab import files\n",
        "uploaded = files.upload()"
      ],
      "metadata": {
        "colab": {
          "base_uri": "https://localhost:8080/",
          "height": 74
        },
        "id": "qpugz6hHFjzn",
        "outputId": "d73da10c-fd70-4d61-910e-4b264f2a5c0c"
      },
      "execution_count": 1,
      "outputs": [
        {
          "output_type": "display_data",
          "data": {
            "text/plain": [
              "<IPython.core.display.HTML object>"
            ],
            "text/html": [
              "\n",
              "     <input type=\"file\" id=\"files-2c5782a0-94c8-48f9-87ee-466c368023df\" name=\"files[]\" multiple disabled\n",
              "        style=\"border:none\" />\n",
              "     <output id=\"result-2c5782a0-94c8-48f9-87ee-466c368023df\">\n",
              "      Upload widget is only available when the cell has been executed in the\n",
              "      current browser session. Please rerun this cell to enable.\n",
              "      </output>\n",
              "      <script>// Copyright 2017 Google LLC\n",
              "//\n",
              "// Licensed under the Apache License, Version 2.0 (the \"License\");\n",
              "// you may not use this file except in compliance with the License.\n",
              "// You may obtain a copy of the License at\n",
              "//\n",
              "//      http://www.apache.org/licenses/LICENSE-2.0\n",
              "//\n",
              "// Unless required by applicable law or agreed to in writing, software\n",
              "// distributed under the License is distributed on an \"AS IS\" BASIS,\n",
              "// WITHOUT WARRANTIES OR CONDITIONS OF ANY KIND, either express or implied.\n",
              "// See the License for the specific language governing permissions and\n",
              "// limitations under the License.\n",
              "\n",
              "/**\n",
              " * @fileoverview Helpers for google.colab Python module.\n",
              " */\n",
              "(function(scope) {\n",
              "function span(text, styleAttributes = {}) {\n",
              "  const element = document.createElement('span');\n",
              "  element.textContent = text;\n",
              "  for (const key of Object.keys(styleAttributes)) {\n",
              "    element.style[key] = styleAttributes[key];\n",
              "  }\n",
              "  return element;\n",
              "}\n",
              "\n",
              "// Max number of bytes which will be uploaded at a time.\n",
              "const MAX_PAYLOAD_SIZE = 100 * 1024;\n",
              "\n",
              "function _uploadFiles(inputId, outputId) {\n",
              "  const steps = uploadFilesStep(inputId, outputId);\n",
              "  const outputElement = document.getElementById(outputId);\n",
              "  // Cache steps on the outputElement to make it available for the next call\n",
              "  // to uploadFilesContinue from Python.\n",
              "  outputElement.steps = steps;\n",
              "\n",
              "  return _uploadFilesContinue(outputId);\n",
              "}\n",
              "\n",
              "// This is roughly an async generator (not supported in the browser yet),\n",
              "// where there are multiple asynchronous steps and the Python side is going\n",
              "// to poll for completion of each step.\n",
              "// This uses a Promise to block the python side on completion of each step,\n",
              "// then passes the result of the previous step as the input to the next step.\n",
              "function _uploadFilesContinue(outputId) {\n",
              "  const outputElement = document.getElementById(outputId);\n",
              "  const steps = outputElement.steps;\n",
              "\n",
              "  const next = steps.next(outputElement.lastPromiseValue);\n",
              "  return Promise.resolve(next.value.promise).then((value) => {\n",
              "    // Cache the last promise value to make it available to the next\n",
              "    // step of the generator.\n",
              "    outputElement.lastPromiseValue = value;\n",
              "    return next.value.response;\n",
              "  });\n",
              "}\n",
              "\n",
              "/**\n",
              " * Generator function which is called between each async step of the upload\n",
              " * process.\n",
              " * @param {string} inputId Element ID of the input file picker element.\n",
              " * @param {string} outputId Element ID of the output display.\n",
              " * @return {!Iterable<!Object>} Iterable of next steps.\n",
              " */\n",
              "function* uploadFilesStep(inputId, outputId) {\n",
              "  const inputElement = document.getElementById(inputId);\n",
              "  inputElement.disabled = false;\n",
              "\n",
              "  const outputElement = document.getElementById(outputId);\n",
              "  outputElement.innerHTML = '';\n",
              "\n",
              "  const pickedPromise = new Promise((resolve) => {\n",
              "    inputElement.addEventListener('change', (e) => {\n",
              "      resolve(e.target.files);\n",
              "    });\n",
              "  });\n",
              "\n",
              "  const cancel = document.createElement('button');\n",
              "  inputElement.parentElement.appendChild(cancel);\n",
              "  cancel.textContent = 'Cancel upload';\n",
              "  const cancelPromise = new Promise((resolve) => {\n",
              "    cancel.onclick = () => {\n",
              "      resolve(null);\n",
              "    };\n",
              "  });\n",
              "\n",
              "  // Wait for the user to pick the files.\n",
              "  const files = yield {\n",
              "    promise: Promise.race([pickedPromise, cancelPromise]),\n",
              "    response: {\n",
              "      action: 'starting',\n",
              "    }\n",
              "  };\n",
              "\n",
              "  cancel.remove();\n",
              "\n",
              "  // Disable the input element since further picks are not allowed.\n",
              "  inputElement.disabled = true;\n",
              "\n",
              "  if (!files) {\n",
              "    return {\n",
              "      response: {\n",
              "        action: 'complete',\n",
              "      }\n",
              "    };\n",
              "  }\n",
              "\n",
              "  for (const file of files) {\n",
              "    const li = document.createElement('li');\n",
              "    li.append(span(file.name, {fontWeight: 'bold'}));\n",
              "    li.append(span(\n",
              "        `(${file.type || 'n/a'}) - ${file.size} bytes, ` +\n",
              "        `last modified: ${\n",
              "            file.lastModifiedDate ? file.lastModifiedDate.toLocaleDateString() :\n",
              "                                    'n/a'} - `));\n",
              "    const percent = span('0% done');\n",
              "    li.appendChild(percent);\n",
              "\n",
              "    outputElement.appendChild(li);\n",
              "\n",
              "    const fileDataPromise = new Promise((resolve) => {\n",
              "      const reader = new FileReader();\n",
              "      reader.onload = (e) => {\n",
              "        resolve(e.target.result);\n",
              "      };\n",
              "      reader.readAsArrayBuffer(file);\n",
              "    });\n",
              "    // Wait for the data to be ready.\n",
              "    let fileData = yield {\n",
              "      promise: fileDataPromise,\n",
              "      response: {\n",
              "        action: 'continue',\n",
              "      }\n",
              "    };\n",
              "\n",
              "    // Use a chunked sending to avoid message size limits. See b/62115660.\n",
              "    let position = 0;\n",
              "    do {\n",
              "      const length = Math.min(fileData.byteLength - position, MAX_PAYLOAD_SIZE);\n",
              "      const chunk = new Uint8Array(fileData, position, length);\n",
              "      position += length;\n",
              "\n",
              "      const base64 = btoa(String.fromCharCode.apply(null, chunk));\n",
              "      yield {\n",
              "        response: {\n",
              "          action: 'append',\n",
              "          file: file.name,\n",
              "          data: base64,\n",
              "        },\n",
              "      };\n",
              "\n",
              "      let percentDone = fileData.byteLength === 0 ?\n",
              "          100 :\n",
              "          Math.round((position / fileData.byteLength) * 100);\n",
              "      percent.textContent = `${percentDone}% done`;\n",
              "\n",
              "    } while (position < fileData.byteLength);\n",
              "  }\n",
              "\n",
              "  // All done.\n",
              "  yield {\n",
              "    response: {\n",
              "      action: 'complete',\n",
              "    }\n",
              "  };\n",
              "}\n",
              "\n",
              "scope.google = scope.google || {};\n",
              "scope.google.colab = scope.google.colab || {};\n",
              "scope.google.colab._files = {\n",
              "  _uploadFiles,\n",
              "  _uploadFilesContinue,\n",
              "};\n",
              "})(self);\n",
              "</script> "
            ]
          },
          "metadata": {}
        },
        {
          "output_type": "stream",
          "name": "stdout",
          "text": [
            "Saving forest_cover.csv to forest_cover.csv\n"
          ]
        }
      ]
    },
    {
      "cell_type": "markdown",
      "metadata": {
        "id": "JCwN-bCqFcdN"
      },
      "source": [
        "# Nonparametric ML Models - Cumulative Lab\n",
        "\n",
        "## Introduction\n",
        "\n",
        "In this cumulative lab, you will apply two nonparametric models you have just learned — k-nearest neighbors and decision trees — to the forest cover dataset.\n",
        "\n",
        "## Objectives\n",
        "\n",
        "* Practice identifying and applying appropriate preprocessing steps\n",
        "* Perform an iterative modeling process, starting from a baseline model\n",
        "* Explore multiple model algorithms, and tune their hyperparameters\n",
        "* Practice choosing a final model across multiple model algorithms and evaluating its performance"
      ]
    },
    {
      "cell_type": "markdown",
      "metadata": {
        "id": "CE26HmxuFcdP"
      },
      "source": [
        "## Your Task: Complete an End-to-End ML Process with Nonparametric Models on the Forest Cover Dataset\n",
        "\n",
        "![trees.jpg](data:image/jpeg;base64,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)\n",
        "\n",
        "Photo by <a href=\"https://unsplash.com/@michaelbenz?utm_source=unsplash&utm_medium=referral&utm_content=creditCopyText\">Michael Benz</a> on <a href=\"/s/photos/forest?utm_source=unsplash&utm_medium=referral&utm_content=creditCopyText\">Unsplash</a>"
      ]
    },
    {
      "cell_type": "markdown",
      "metadata": {
        "id": "1In3ii_EFcdP"
      },
      "source": [
        "### Business and Data Understanding\n",
        "\n",
        "To repeat the previous description:\n",
        "\n",
        "> Here we will be using an adapted version of the forest cover dataset from the [UCI Machine Learning Repository](https://archive.ics.uci.edu/ml/datasets/covertype). Each record represents a 30 x 30 meter cell of land within Roosevelt National Forest in northern Colorado, which has been labeled as `Cover_Type` 1 for \"Cottonwood/Willow\" and `Cover_Type` 0 for \"Ponderosa Pine\". (The original dataset contained 7 cover types but we have simplified it.)\n",
        "\n",
        "The task is to predict the `Cover_Type` based on the available cartographic variables:"
      ]
    },
    {
      "cell_type": "code",
      "execution_count": 2,
      "metadata": {
        "colab": {
          "base_uri": "https://localhost:8080/",
          "height": 488
        },
        "id": "Q-m7ZgseFcdP",
        "outputId": "b1127663-201f-40a9-b4d9-b0757e89b5e3"
      },
      "outputs": [
        {
          "output_type": "execute_result",
          "data": {
            "text/plain": [
              "       Elevation  Aspect  Slope  Horizontal_Distance_To_Hydrology  \\\n",
              "0           2553     235     17                               351   \n",
              "1           2011     344     17                               313   \n",
              "2           2022      24     13                               391   \n",
              "3           2038      50     17                               408   \n",
              "4           2018     341     27                               351   \n",
              "...          ...     ...    ...                               ...   \n",
              "38496       2396     153     20                                85   \n",
              "38497       2391     152     19                                67   \n",
              "38498       2386     159     17                                60   \n",
              "38499       2384     170     15                                60   \n",
              "38500       2383     165     13                                60   \n",
              "\n",
              "       Vertical_Distance_To_Hydrology  Horizontal_Distance_To_Roadways  \\\n",
              "0                                  95                              780   \n",
              "1                                  29                              404   \n",
              "2                                  42                              509   \n",
              "3                                  71                              474   \n",
              "4                                  34                              390   \n",
              "...                               ...                              ...   \n",
              "38496                              17                              108   \n",
              "38497                              12                               95   \n",
              "38498                               7                               90   \n",
              "38499                               5                               90   \n",
              "38500                               4                               67   \n",
              "\n",
              "       Hillshade_9am  Hillshade_Noon  Hillshade_3pm  \\\n",
              "0                188             253            199   \n",
              "1                183             211            164   \n",
              "2                212             212            134   \n",
              "3                226             200            102   \n",
              "4                152             188            168   \n",
              "...              ...             ...            ...   \n",
              "38496            240             237            118   \n",
              "38497            240             237            119   \n",
              "38498            236             241            130   \n",
              "38499            230             245            143   \n",
              "38500            231             244            141   \n",
              "\n",
              "       Horizontal_Distance_To_Fire_Points  ...  Soil_Type_31  Soil_Type_32  \\\n",
              "0                                    1410  ...             0             0   \n",
              "1                                     300  ...             0             0   \n",
              "2                                     421  ...             0             0   \n",
              "3                                     283  ...             0             0   \n",
              "4                                     190  ...             0             0   \n",
              "...                                   ...  ...           ...           ...   \n",
              "38496                                 837  ...             0             0   \n",
              "38497                                 845  ...             0             0   \n",
              "38498                                 854  ...             0             0   \n",
              "38499                                 864  ...             0             0   \n",
              "38500                                 875  ...             0             0   \n",
              "\n",
              "       Soil_Type_33  Soil_Type_34  Soil_Type_35  Soil_Type_36  Soil_Type_37  \\\n",
              "0                 0             0             0             0             0   \n",
              "1                 0             0             0             0             0   \n",
              "2                 0             0             0             0             0   \n",
              "3                 0             0             0             0             0   \n",
              "4                 0             0             0             0             0   \n",
              "...             ...           ...           ...           ...           ...   \n",
              "38496             0             0             0             0             0   \n",
              "38497             0             0             0             0             0   \n",
              "38498             0             0             0             0             0   \n",
              "38499             0             0             0             0             0   \n",
              "38500             0             0             0             0             0   \n",
              "\n",
              "       Soil_Type_38  Soil_Type_39  Cover_Type  \n",
              "0                 0             0           0  \n",
              "1                 0             0           0  \n",
              "2                 0             0           0  \n",
              "3                 0             0           0  \n",
              "4                 0             0           0  \n",
              "...             ...           ...         ...  \n",
              "38496             0             0           0  \n",
              "38497             0             0           0  \n",
              "38498             0             0           0  \n",
              "38499             0             0           0  \n",
              "38500             0             0           0  \n",
              "\n",
              "[38501 rows x 53 columns]"
            ],
            "text/html": [
              "\n",
              "\n",
              "  <div id=\"df-47a8dc21-b8e9-4df8-b99a-1de78309d169\">\n",
              "    <div class=\"colab-df-container\">\n",
              "      <div>\n",
              "<style scoped>\n",
              "    .dataframe tbody tr th:only-of-type {\n",
              "        vertical-align: middle;\n",
              "    }\n",
              "\n",
              "    .dataframe tbody tr th {\n",
              "        vertical-align: top;\n",
              "    }\n",
              "\n",
              "    .dataframe thead th {\n",
              "        text-align: right;\n",
              "    }\n",
              "</style>\n",
              "<table border=\"1\" class=\"dataframe\">\n",
              "  <thead>\n",
              "    <tr style=\"text-align: right;\">\n",
              "      <th></th>\n",
              "      <th>Elevation</th>\n",
              "      <th>Aspect</th>\n",
              "      <th>Slope</th>\n",
              "      <th>Horizontal_Distance_To_Hydrology</th>\n",
              "      <th>Vertical_Distance_To_Hydrology</th>\n",
              "      <th>Horizontal_Distance_To_Roadways</th>\n",
              "      <th>Hillshade_9am</th>\n",
              "      <th>Hillshade_Noon</th>\n",
              "      <th>Hillshade_3pm</th>\n",
              "      <th>Horizontal_Distance_To_Fire_Points</th>\n",
              "      <th>...</th>\n",
              "      <th>Soil_Type_31</th>\n",
              "      <th>Soil_Type_32</th>\n",
              "      <th>Soil_Type_33</th>\n",
              "      <th>Soil_Type_34</th>\n",
              "      <th>Soil_Type_35</th>\n",
              "      <th>Soil_Type_36</th>\n",
              "      <th>Soil_Type_37</th>\n",
              "      <th>Soil_Type_38</th>\n",
              "      <th>Soil_Type_39</th>\n",
              "      <th>Cover_Type</th>\n",
              "    </tr>\n",
              "  </thead>\n",
              "  <tbody>\n",
              "    <tr>\n",
              "      <th>0</th>\n",
              "      <td>2553</td>\n",
              "      <td>235</td>\n",
              "      <td>17</td>\n",
              "      <td>351</td>\n",
              "      <td>95</td>\n",
              "      <td>780</td>\n",
              "      <td>188</td>\n",
              "      <td>253</td>\n",
              "      <td>199</td>\n",
              "      <td>1410</td>\n",
              "      <td>...</td>\n",
              "      <td>0</td>\n",
              "      <td>0</td>\n",
              "      <td>0</td>\n",
              "      <td>0</td>\n",
              "      <td>0</td>\n",
              "      <td>0</td>\n",
              "      <td>0</td>\n",
              "      <td>0</td>\n",
              "      <td>0</td>\n",
              "      <td>0</td>\n",
              "    </tr>\n",
              "    <tr>\n",
              "      <th>1</th>\n",
              "      <td>2011</td>\n",
              "      <td>344</td>\n",
              "      <td>17</td>\n",
              "      <td>313</td>\n",
              "      <td>29</td>\n",
              "      <td>404</td>\n",
              "      <td>183</td>\n",
              "      <td>211</td>\n",
              "      <td>164</td>\n",
              "      <td>300</td>\n",
              "      <td>...</td>\n",
              "      <td>0</td>\n",
              "      <td>0</td>\n",
              "      <td>0</td>\n",
              "      <td>0</td>\n",
              "      <td>0</td>\n",
              "      <td>0</td>\n",
              "      <td>0</td>\n",
              "      <td>0</td>\n",
              "      <td>0</td>\n",
              "      <td>0</td>\n",
              "    </tr>\n",
              "    <tr>\n",
              "      <th>2</th>\n",
              "      <td>2022</td>\n",
              "      <td>24</td>\n",
              "      <td>13</td>\n",
              "      <td>391</td>\n",
              "      <td>42</td>\n",
              "      <td>509</td>\n",
              "      <td>212</td>\n",
              "      <td>212</td>\n",
              "      <td>134</td>\n",
              "      <td>421</td>\n",
              "      <td>...</td>\n",
              "      <td>0</td>\n",
              "      <td>0</td>\n",
              "      <td>0</td>\n",
              "      <td>0</td>\n",
              "      <td>0</td>\n",
              "      <td>0</td>\n",
              "      <td>0</td>\n",
              "      <td>0</td>\n",
              "      <td>0</td>\n",
              "      <td>0</td>\n",
              "    </tr>\n",
              "    <tr>\n",
              "      <th>3</th>\n",
              "      <td>2038</td>\n",
              "      <td>50</td>\n",
              "      <td>17</td>\n",
              "      <td>408</td>\n",
              "      <td>71</td>\n",
              "      <td>474</td>\n",
              "      <td>226</td>\n",
              "      <td>200</td>\n",
              "      <td>102</td>\n",
              "      <td>283</td>\n",
              "      <td>...</td>\n",
              "      <td>0</td>\n",
              "      <td>0</td>\n",
              "      <td>0</td>\n",
              "      <td>0</td>\n",
              "      <td>0</td>\n",
              "      <td>0</td>\n",
              "      <td>0</td>\n",
              "      <td>0</td>\n",
              "      <td>0</td>\n",
              "      <td>0</td>\n",
              "    </tr>\n",
              "    <tr>\n",
              "      <th>4</th>\n",
              "      <td>2018</td>\n",
              "      <td>341</td>\n",
              "      <td>27</td>\n",
              "      <td>351</td>\n",
              "      <td>34</td>\n",
              "      <td>390</td>\n",
              "      <td>152</td>\n",
              "      <td>188</td>\n",
              "      <td>168</td>\n",
              "      <td>190</td>\n",
              "      <td>...</td>\n",
              "      <td>0</td>\n",
              "      <td>0</td>\n",
              "      <td>0</td>\n",
              "      <td>0</td>\n",
              "      <td>0</td>\n",
              "      <td>0</td>\n",
              "      <td>0</td>\n",
              "      <td>0</td>\n",
              "      <td>0</td>\n",
              "      <td>0</td>\n",
              "    </tr>\n",
              "    <tr>\n",
              "      <th>...</th>\n",
              "      <td>...</td>\n",
              "      <td>...</td>\n",
              "      <td>...</td>\n",
              "      <td>...</td>\n",
              "      <td>...</td>\n",
              "      <td>...</td>\n",
              "      <td>...</td>\n",
              "      <td>...</td>\n",
              "      <td>...</td>\n",
              "      <td>...</td>\n",
              "      <td>...</td>\n",
              "      <td>...</td>\n",
              "      <td>...</td>\n",
              "      <td>...</td>\n",
              "      <td>...</td>\n",
              "      <td>...</td>\n",
              "      <td>...</td>\n",
              "      <td>...</td>\n",
              "      <td>...</td>\n",
              "      <td>...</td>\n",
              "      <td>...</td>\n",
              "    </tr>\n",
              "    <tr>\n",
              "      <th>38496</th>\n",
              "      <td>2396</td>\n",
              "      <td>153</td>\n",
              "      <td>20</td>\n",
              "      <td>85</td>\n",
              "      <td>17</td>\n",
              "      <td>108</td>\n",
              "      <td>240</td>\n",
              "      <td>237</td>\n",
              "      <td>118</td>\n",
              "      <td>837</td>\n",
              "      <td>...</td>\n",
              "      <td>0</td>\n",
              "      <td>0</td>\n",
              "      <td>0</td>\n",
              "      <td>0</td>\n",
              "      <td>0</td>\n",
              "      <td>0</td>\n",
              "      <td>0</td>\n",
              "      <td>0</td>\n",
              "      <td>0</td>\n",
              "      <td>0</td>\n",
              "    </tr>\n",
              "    <tr>\n",
              "      <th>38497</th>\n",
              "      <td>2391</td>\n",
              "      <td>152</td>\n",
              "      <td>19</td>\n",
              "      <td>67</td>\n",
              "      <td>12</td>\n",
              "      <td>95</td>\n",
              "      <td>240</td>\n",
              "      <td>237</td>\n",
              "      <td>119</td>\n",
              "      <td>845</td>\n",
              "      <td>...</td>\n",
              "      <td>0</td>\n",
              "      <td>0</td>\n",
              "      <td>0</td>\n",
              "      <td>0</td>\n",
              "      <td>0</td>\n",
              "      <td>0</td>\n",
              "      <td>0</td>\n",
              "      <td>0</td>\n",
              "      <td>0</td>\n",
              "      <td>0</td>\n",
              "    </tr>\n",
              "    <tr>\n",
              "      <th>38498</th>\n",
              "      <td>2386</td>\n",
              "      <td>159</td>\n",
              "      <td>17</td>\n",
              "      <td>60</td>\n",
              "      <td>7</td>\n",
              "      <td>90</td>\n",
              "      <td>236</td>\n",
              "      <td>241</td>\n",
              "      <td>130</td>\n",
              "      <td>854</td>\n",
              "      <td>...</td>\n",
              "      <td>0</td>\n",
              "      <td>0</td>\n",
              "      <td>0</td>\n",
              "      <td>0</td>\n",
              "      <td>0</td>\n",
              "      <td>0</td>\n",
              "      <td>0</td>\n",
              "      <td>0</td>\n",
              "      <td>0</td>\n",
              "      <td>0</td>\n",
              "    </tr>\n",
              "    <tr>\n",
              "      <th>38499</th>\n",
              "      <td>2384</td>\n",
              "      <td>170</td>\n",
              "      <td>15</td>\n",
              "      <td>60</td>\n",
              "      <td>5</td>\n",
              "      <td>90</td>\n",
              "      <td>230</td>\n",
              "      <td>245</td>\n",
              "      <td>143</td>\n",
              "      <td>864</td>\n",
              "      <td>...</td>\n",
              "      <td>0</td>\n",
              "      <td>0</td>\n",
              "      <td>0</td>\n",
              "      <td>0</td>\n",
              "      <td>0</td>\n",
              "      <td>0</td>\n",
              "      <td>0</td>\n",
              "      <td>0</td>\n",
              "      <td>0</td>\n",
              "      <td>0</td>\n",
              "    </tr>\n",
              "    <tr>\n",
              "      <th>38500</th>\n",
              "      <td>2383</td>\n",
              "      <td>165</td>\n",
              "      <td>13</td>\n",
              "      <td>60</td>\n",
              "      <td>4</td>\n",
              "      <td>67</td>\n",
              "      <td>231</td>\n",
              "      <td>244</td>\n",
              "      <td>141</td>\n",
              "      <td>875</td>\n",
              "      <td>...</td>\n",
              "      <td>0</td>\n",
              "      <td>0</td>\n",
              "      <td>0</td>\n",
              "      <td>0</td>\n",
              "      <td>0</td>\n",
              "      <td>0</td>\n",
              "      <td>0</td>\n",
              "      <td>0</td>\n",
              "      <td>0</td>\n",
              "      <td>0</td>\n",
              "    </tr>\n",
              "  </tbody>\n",
              "</table>\n",
              "<p>38501 rows × 53 columns</p>\n",
              "</div>\n",
              "      <button class=\"colab-df-convert\" onclick=\"convertToInteractive('df-47a8dc21-b8e9-4df8-b99a-1de78309d169')\"\n",
              "              title=\"Convert this dataframe to an interactive table.\"\n",
              "              style=\"display:none;\">\n",
              "\n",
              "  <svg xmlns=\"http://www.w3.org/2000/svg\" height=\"24px\"viewBox=\"0 0 24 24\"\n",
              "       width=\"24px\">\n",
              "    <path d=\"M0 0h24v24H0V0z\" fill=\"none\"/>\n",
              "    <path d=\"M18.56 5.44l.94 2.06.94-2.06 2.06-.94-2.06-.94-.94-2.06-.94 2.06-2.06.94zm-11 1L8.5 8.5l.94-2.06 2.06-.94-2.06-.94L8.5 2.5l-.94 2.06-2.06.94zm10 10l.94 2.06.94-2.06 2.06-.94-2.06-.94-.94-2.06-.94 2.06-2.06.94z\"/><path d=\"M17.41 7.96l-1.37-1.37c-.4-.4-.92-.59-1.43-.59-.52 0-1.04.2-1.43.59L10.3 9.45l-7.72 7.72c-.78.78-.78 2.05 0 2.83L4 21.41c.39.39.9.59 1.41.59.51 0 1.02-.2 1.41-.59l7.78-7.78 2.81-2.81c.8-.78.8-2.07 0-2.86zM5.41 20L4 18.59l7.72-7.72 1.47 1.35L5.41 20z\"/>\n",
              "  </svg>\n",
              "      </button>\n",
              "\n",
              "\n",
              "\n",
              "    <div id=\"df-98ee5787-9f02-41c9-b4b2-f25505f63f79\">\n",
              "      <button class=\"colab-df-quickchart\" onclick=\"quickchart('df-98ee5787-9f02-41c9-b4b2-f25505f63f79')\"\n",
              "              title=\"Suggest charts.\"\n",
              "              style=\"display:none;\">\n",
              "\n",
              "<svg xmlns=\"http://www.w3.org/2000/svg\" height=\"24px\"viewBox=\"0 0 24 24\"\n",
              "     width=\"24px\">\n",
              "    <g>\n",
              "        <path d=\"M19 3H5c-1.1 0-2 .9-2 2v14c0 1.1.9 2 2 2h14c1.1 0 2-.9 2-2V5c0-1.1-.9-2-2-2zM9 17H7v-7h2v7zm4 0h-2V7h2v10zm4 0h-2v-4h2v4z\"/>\n",
              "    </g>\n",
              "</svg>\n",
              "      </button>\n",
              "    </div>\n",
              "\n",
              "<style>\n",
              "  .colab-df-quickchart {\n",
              "    background-color: #E8F0FE;\n",
              "    border: none;\n",
              "    border-radius: 50%;\n",
              "    cursor: pointer;\n",
              "    display: none;\n",
              "    fill: #1967D2;\n",
              "    height: 32px;\n",
              "    padding: 0 0 0 0;\n",
              "    width: 32px;\n",
              "  }\n",
              "\n",
              "  .colab-df-quickchart:hover {\n",
              "    background-color: #E2EBFA;\n",
              "    box-shadow: 0px 1px 2px rgba(60, 64, 67, 0.3), 0px 1px 3px 1px rgba(60, 64, 67, 0.15);\n",
              "    fill: #174EA6;\n",
              "  }\n",
              "\n",
              "  [theme=dark] .colab-df-quickchart {\n",
              "    background-color: #3B4455;\n",
              "    fill: #D2E3FC;\n",
              "  }\n",
              "\n",
              "  [theme=dark] .colab-df-quickchart:hover {\n",
              "    background-color: #434B5C;\n",
              "    box-shadow: 0px 1px 3px 1px rgba(0, 0, 0, 0.15);\n",
              "    filter: drop-shadow(0px 1px 2px rgba(0, 0, 0, 0.3));\n",
              "    fill: #FFFFFF;\n",
              "  }\n",
              "</style>\n",
              "\n",
              "    <script>\n",
              "      async function quickchart(key) {\n",
              "        const containerElement = document.querySelector('#' + key);\n",
              "        const charts = await google.colab.kernel.invokeFunction(\n",
              "            'suggestCharts', [key], {});\n",
              "      }\n",
              "    </script>\n",
              "\n",
              "      <script>\n",
              "\n",
              "function displayQuickchartButton(domScope) {\n",
              "  let quickchartButtonEl =\n",
              "    domScope.querySelector('#df-98ee5787-9f02-41c9-b4b2-f25505f63f79 button.colab-df-quickchart');\n",
              "  quickchartButtonEl.style.display =\n",
              "    google.colab.kernel.accessAllowed ? 'block' : 'none';\n",
              "}\n",
              "\n",
              "        displayQuickchartButton(document);\n",
              "      </script>\n",
              "      <style>\n",
              "    .colab-df-container {\n",
              "      display:flex;\n",
              "      flex-wrap:wrap;\n",
              "      gap: 12px;\n",
              "    }\n",
              "\n",
              "    .colab-df-convert {\n",
              "      background-color: #E8F0FE;\n",
              "      border: none;\n",
              "      border-radius: 50%;\n",
              "      cursor: pointer;\n",
              "      display: none;\n",
              "      fill: #1967D2;\n",
              "      height: 32px;\n",
              "      padding: 0 0 0 0;\n",
              "      width: 32px;\n",
              "    }\n",
              "\n",
              "    .colab-df-convert:hover {\n",
              "      background-color: #E2EBFA;\n",
              "      box-shadow: 0px 1px 2px rgba(60, 64, 67, 0.3), 0px 1px 3px 1px rgba(60, 64, 67, 0.15);\n",
              "      fill: #174EA6;\n",
              "    }\n",
              "\n",
              "    [theme=dark] .colab-df-convert {\n",
              "      background-color: #3B4455;\n",
              "      fill: #D2E3FC;\n",
              "    }\n",
              "\n",
              "    [theme=dark] .colab-df-convert:hover {\n",
              "      background-color: #434B5C;\n",
              "      box-shadow: 0px 1px 3px 1px rgba(0, 0, 0, 0.15);\n",
              "      filter: drop-shadow(0px 1px 2px rgba(0, 0, 0, 0.3));\n",
              "      fill: #FFFFFF;\n",
              "    }\n",
              "  </style>\n",
              "\n",
              "      <script>\n",
              "        const buttonEl =\n",
              "          document.querySelector('#df-47a8dc21-b8e9-4df8-b99a-1de78309d169 button.colab-df-convert');\n",
              "        buttonEl.style.display =\n",
              "          google.colab.kernel.accessAllowed ? 'block' : 'none';\n",
              "\n",
              "        async function convertToInteractive(key) {\n",
              "          const element = document.querySelector('#df-47a8dc21-b8e9-4df8-b99a-1de78309d169');\n",
              "          const dataTable =\n",
              "            await google.colab.kernel.invokeFunction('convertToInteractive',\n",
              "                                                     [key], {});\n",
              "          if (!dataTable) return;\n",
              "\n",
              "          const docLinkHtml = 'Like what you see? Visit the ' +\n",
              "            '<a target=\"_blank\" href=https://colab.research.google.com/notebooks/data_table.ipynb>data table notebook</a>'\n",
              "            + ' to learn more about interactive tables.';\n",
              "          element.innerHTML = '';\n",
              "          dataTable['output_type'] = 'display_data';\n",
              "          await google.colab.output.renderOutput(dataTable, element);\n",
              "          const docLink = document.createElement('div');\n",
              "          docLink.innerHTML = docLinkHtml;\n",
              "          element.appendChild(docLink);\n",
              "        }\n",
              "      </script>\n",
              "    </div>\n",
              "  </div>\n"
            ]
          },
          "metadata": {},
          "execution_count": 2
        }
      ],
      "source": [
        "# Run this cell without changes\n",
        "import pandas as pd\n",
        "\n",
        "df = pd.read_csv('forest_cover.csv')\n",
        "df"
      ]
    },
    {
      "cell_type": "markdown",
      "metadata": {
        "id": "8KA6LfvgFcdQ"
      },
      "source": [
        "> As you can see, we have over 38,000 rows, each with 52 feature columns and 1 target column:\n",
        "\n",
        "> * `Elevation`: Elevation in meters\n",
        "> * `Aspect`: Aspect in degrees azimuth\n",
        "> * `Slope`: Slope in degrees\n",
        "> * `Horizontal_Distance_To_Hydrology`: Horizontal dist to nearest surface water features in meters\n",
        "> * `Vertical_Distance_To_Hydrology`: Vertical dist to nearest surface water features in meters\n",
        "> * `Horizontal_Distance_To_Roadways`: Horizontal dist to nearest roadway in meters\n",
        "> * `Hillshade_9am`: Hillshade index at 9am, summer solstice\n",
        "> * `Hillshade_Noon`: Hillshade index at noon, summer solstice\n",
        "> * `Hillshade_3pm`: Hillshade index at 3pm, summer solstice\n",
        "> * `Horizontal_Distance_To_Fire_Points`: Horizontal dist to nearest wildfire ignition points, meters\n",
        "> * `Wilderness_Area_x`: Wilderness area designation (3 columns)\n",
        "> * `Soil_Type_x`: Soil Type designation (39 columns)\n",
        "> * `Cover_Type`: 1 for cottonwood/willow, 0 for ponderosa pine\n",
        "\n",
        "This is also an imbalanced dataset, since cottonwood/willow trees are relatively rare in this forest:"
      ]
    },
    {
      "cell_type": "code",
      "execution_count": 3,
      "metadata": {
        "colab": {
          "base_uri": "https://localhost:8080/"
        },
        "id": "7GP1ttV_FcdQ",
        "outputId": "cae25343-13c1-4e24-8da9-b5978e1e4c79"
      },
      "outputs": [
        {
          "output_type": "stream",
          "name": "stdout",
          "text": [
            "Raw Counts\n",
            "0    35754\n",
            "1     2747\n",
            "Name: Cover_Type, dtype: int64\n",
            "\n",
            "Percentages\n",
            "0    0.928651\n",
            "1    0.071349\n",
            "Name: Cover_Type, dtype: float64\n"
          ]
        }
      ],
      "source": [
        "# Run this cell without changes\n",
        "print(\"Raw Counts\")\n",
        "print(df[\"Cover_Type\"].value_counts())\n",
        "print()\n",
        "print(\"Percentages\")\n",
        "print(df[\"Cover_Type\"].value_counts(normalize=True))"
      ]
    },
    {
      "cell_type": "markdown",
      "metadata": {
        "id": "lUaF6UOCFcdQ"
      },
      "source": [
        "Thus, a baseline model that always chose the majority class would have an accuracy of over 92%. Therefore we will want to report additional metrics at the end."
      ]
    },
    {
      "cell_type": "markdown",
      "metadata": {
        "id": "eE_tpUX_FcdQ"
      },
      "source": [
        "### Previous Best Model\n",
        "\n",
        "In a previous lab, we used SMOTE to create additional synthetic data, then tuned the hyperparameters of a logistic regression model to get the following final model metrics:\n",
        "\n",
        "* **Log loss:** 0.13031294393913376\n",
        "* **Accuracy:** 0.9456679825472678\n",
        "* **Precision:** 0.6659919028340081\n",
        "* **Recall:** 0.47889374090247455\n",
        "\n",
        "In this lab, you will try to beat those scores using more-complex, nonparametric models.\n",
        "\n",
        "### Modeling\n",
        "\n",
        "Although you may be aware of some additional model algorithms available from scikit-learn, for this lab you will be focusing on two of them: k-nearest neighbors and decision trees. Here are some reminders about these models:\n",
        "\n",
        "#### kNN - [documentation here](https://scikit-learn.org/stable/modules/generated/sklearn.neighbors.KNeighborsClassifier.html)\n",
        "\n",
        "This algorithm — unlike linear models or tree-based models — does not emphasize learning the relationship between the features and the target. Instead, for a given test record, it finds the most similar records in the training set and returns an average of their target values.\n",
        "\n",
        "* **Training speed:** Fast. In theory it's just saving the training data for later, although the scikit-learn implementation has some additional logic \"under the hood\" to make prediction faster.\n",
        "* **Prediction speed:** Very slow. The model has to look at every record in the training set to find the k closest to the new record.\n",
        "* **Requires scaling:** Yes. The algorithm to find the nearest records is distance-based, so it matters that distances are all on the same scale.\n",
        "* **Key hyperparameters:** `n_neighbors` (how many nearest neighbors to find; too few neighbors leads to overfitting, too many leads to underfitting), `p` and `metric` (what kind of distance to use in defining \"nearest\" neighbors)\n",
        "\n",
        "#### Decision Trees - [documentation here](https://scikit-learn.org/stable/modules/generated/sklearn.tree.DecisionTreeClassifier.html)\n",
        "\n",
        "Similar to linear models (and unlike kNN), this algorithm emphasizes learning the relationship between the features and the target. However, unlike a linear model that tries to find linear relationships between each of the features and the target, decision trees look for ways to split the data based on features to decrease the entropy of the target in each split.\n",
        "\n",
        "* **Training speed:** Slow. The model is considering splits based on as many as all of the available features, and it can split on the same feature multiple times. This requires exponential computational time that increases based on the number of columns as well as the number of rows.\n",
        "* **Prediction speed:** Medium fast. Producing a prediction with a decision tree means applying several conditional statements, which is slower than something like logistic regression but faster than kNN.\n",
        "* **Requires scaling:** No. This model is not distance-based. You also can use a `LabelEncoder` rather than `OneHotEncoder` for categorical data, since this algorithm doesn't necessarily assume that the distance between `1` and `2` is the same as the distance between `2` and `3`.\n",
        "* **Key hyperparameters:** Many features relating to \"pruning\" the tree. By default they are set so the tree can overfit, and by setting them higher or lower (depending on the hyperparameter) you can reduce overfitting, but too much will lead to underfitting. These are: `max_depth`, `min_samples_split`, `min_samples_leaf`, `min_weight_fraction_leaf`, `max_features`, `max_leaf_nodes`, and `min_impurity_decrease`. You can also try changing the `criterion` to \"entropy\" or the `splitter` to \"random\" if you want to change the splitting logic."
      ]
    },
    {
      "cell_type": "markdown",
      "metadata": {
        "id": "4ZIS0W_OFcdR"
      },
      "source": [
        "### Requirements\n",
        "\n",
        "#### 1. Prepare the Data for Modeling\n",
        "\n",
        "#### 2. Build a Baseline kNN Model\n",
        "\n",
        "#### 3. Build Iterative Models to Find the Best kNN Model\n",
        "\n",
        "#### 4. Build a Baseline Decision Tree Model\n",
        "\n",
        "#### 5. Build Iterative Models to Find the Best Decision Tree Model\n",
        "\n",
        "#### 6. Choose and Evaluate an Overall Best Model"
      ]
    },
    {
      "cell_type": "markdown",
      "metadata": {
        "id": "ei6S-6riFcdR"
      },
      "source": [
        "## 1. Prepare the Data for Modeling\n",
        "\n",
        "The target is `Cover_Type`. In the cell below, split `df` into `X` and `y`, then perform a train-test split with `random_state=42` and `stratify=y` to create variables with the standard `X_train`, `X_test`, `y_train`, `y_test` names.\n",
        "\n",
        "Include the relevant imports as you go."
      ]
    },
    {
      "cell_type": "code",
      "execution_count": 39,
      "metadata": {
        "id": "Dq2sUn8xFcdR"
      },
      "outputs": [],
      "source": [
        "# Your code here\n",
        "from sklearn.model_selection import train_test_split\n",
        "\n",
        "X = df.drop(\"Cover_Type\", axis=1)\n",
        "y = df[\"Cover_Type\"]\n",
        "\n",
        "X_train, X_test, y_train, y_test = train_test_split(X, y, random_state=42, stratify=y)"
      ]
    },
    {
      "cell_type": "markdown",
      "metadata": {
        "id": "1RVEL8uCFcdR"
      },
      "source": [
        "Now, instantiate a `StandardScaler`, fit it on `X_train`, and create new variables `X_train_scaled` and `X_test_scaled` containing values transformed with the scaler."
      ]
    },
    {
      "cell_type": "code",
      "execution_count": 40,
      "metadata": {
        "id": "7rYTWZOOFcdR"
      },
      "outputs": [],
      "source": [
        "# Your code here\n",
        "from sklearn.preprocessing import StandardScaler\n",
        "\n",
        "scaler = StandardScaler()\n",
        "\n",
        "scaler.fit(X_train)\n",
        "\n",
        "X_train_scaled = scaler.transform(X_train)\n",
        "X_test_scaled = scaler.transform(X_test)"
      ]
    },
    {
      "cell_type": "markdown",
      "metadata": {
        "id": "pBQR6MfVFcdR"
      },
      "source": [
        "The following code checks that everything is set up correctly:"
      ]
    },
    {
      "cell_type": "code",
      "execution_count": 6,
      "metadata": {
        "id": "kEZof_sDFcdR"
      },
      "outputs": [],
      "source": [
        "# Run this cell without changes\n",
        "\n",
        "# Checking that df was separated into correct X and y\n",
        "assert type(X) == pd.DataFrame and X.shape == (38501, 52)\n",
        "assert type(y) == pd.Series and y.shape == (38501,)\n",
        "\n",
        "# Checking the train-test split\n",
        "assert type(X_train) == pd.DataFrame and X_train.shape == (28875, 52)\n",
        "assert type(X_test) == pd.DataFrame and X_test.shape == (9626, 52)\n",
        "assert type(y_train) == pd.Series and y_train.shape == (28875,)\n",
        "assert type(y_test) == pd.Series and y_test.shape == (9626,)\n",
        "\n",
        "# Checking the scaling\n",
        "assert X_train_scaled.shape == X_train.shape\n",
        "assert round(X_train_scaled[0][0], 3) == -0.636\n",
        "assert X_test_scaled.shape == X_test.shape\n",
        "assert round(X_test_scaled[0][0], 3) == -1.370"
      ]
    },
    {
      "cell_type": "markdown",
      "metadata": {
        "id": "BOx3k-pGFcdR"
      },
      "source": [
        "## 2. Build a Baseline kNN Model\n",
        "\n",
        "Build a scikit-learn kNN model with default hyperparameters. Then use `cross_val_score` with `scoring=\"neg_log_loss\"` to find the mean log loss for this model (passing in `X_train_scaled` and `y_train` to `cross_val_score`). You'll need to find the mean of the cross-validated scores, and negate the value (either put a `-` at the beginning or multiply by `-1`) so that your answer is a log loss rather than a negative log loss.\n",
        "\n",
        "Call the resulting score `knn_baseline_log_loss`.\n",
        "\n",
        "Your code might take a minute or more to run."
      ]
    },
    {
      "cell_type": "code",
      "execution_count": 41,
      "metadata": {
        "colab": {
          "base_uri": "https://localhost:8080/"
        },
        "id": "T1qbbTcjFcdR",
        "outputId": "e9e54e55-5a31-439b-fe0e-b2fbdd762ffb"
      },
      "outputs": [
        {
          "output_type": "execute_result",
          "data": {
            "text/plain": [
              "0.12964546386734577"
            ]
          },
          "metadata": {},
          "execution_count": 41
        }
      ],
      "source": [
        "# Replace None with appropriate code\n",
        "\n",
        "# Relevant imports\n",
        "from sklearn.neighbors import KNeighborsClassifier\n",
        "from sklearn.model_selection import cross_val_score\n",
        "\n",
        "# Creating the model\n",
        "knn_baseline_model = KNeighborsClassifier()\n",
        "\n",
        "# Perform cross-validation\n",
        "knn_baseline_log_loss = -cross_val_score(knn_baseline_model, X_train_scaled, y_train, scoring=\"neg_log_loss\").mean()\n",
        "\n",
        "knn_baseline_log_loss"
      ]
    },
    {
      "cell_type": "markdown",
      "metadata": {
        "id": "s1bKZHaHFcdR"
      },
      "source": [
        "Our best logistic regression model had a log loss of 0.13031294393913376\n",
        "\n",
        "Is this model better? Compare it in terms of metrics and speed."
      ]
    },
    {
      "cell_type": "code",
      "execution_count": null,
      "metadata": {
        "id": "4nH8uCVPFcdR"
      },
      "outputs": [],
      "source": [
        "# Replace None with appropriate text\n",
        "\"\"\"\n",
        "The baseline model has a lower log loss and it didn't take long to run in my notebook. However the difference is slight and I don't know the business problem\n",
        "so it is hard to say which one is really better. Going off the log loss alone, the baseline performed better.\n",
        "\"\"\""
      ]
    },
    {
      "cell_type": "markdown",
      "metadata": {
        "id": "D-fij-P9FcdS"
      },
      "source": [
        "## 3. Build Iterative Models to Find the Best kNN Model\n",
        "\n",
        "Build and evaluate at least two more kNN models to find the best one. Explain why you are changing the hyperparameters you are changing as you go. These models will be *slow* to run, so be thinking about what you might try next as you run them."
      ]
    },
    {
      "cell_type": "code",
      "execution_count": 42,
      "metadata": {
        "colab": {
          "base_uri": "https://localhost:8080/",
          "height": 75
        },
        "id": "UjZEydy9FcdS",
        "outputId": "ce808114-7c85-4445-f603-53212372ef9b"
      },
      "outputs": [
        {
          "output_type": "execute_result",
          "data": {
            "text/plain": [
              "KNeighborsClassifier(weights='distance')"
            ],
            "text/html": [
              "<style>#sk-container-id-5 {color: black;background-color: white;}#sk-container-id-5 pre{padding: 0;}#sk-container-id-5 div.sk-toggleable {background-color: white;}#sk-container-id-5 label.sk-toggleable__label {cursor: pointer;display: block;width: 100%;margin-bottom: 0;padding: 0.3em;box-sizing: border-box;text-align: center;}#sk-container-id-5 label.sk-toggleable__label-arrow:before {content: \"▸\";float: left;margin-right: 0.25em;color: #696969;}#sk-container-id-5 label.sk-toggleable__label-arrow:hover:before {color: black;}#sk-container-id-5 div.sk-estimator:hover label.sk-toggleable__label-arrow:before {color: black;}#sk-container-id-5 div.sk-toggleable__content {max-height: 0;max-width: 0;overflow: hidden;text-align: left;background-color: #f0f8ff;}#sk-container-id-5 div.sk-toggleable__content pre {margin: 0.2em;color: black;border-radius: 0.25em;background-color: #f0f8ff;}#sk-container-id-5 input.sk-toggleable__control:checked~div.sk-toggleable__content {max-height: 200px;max-width: 100%;overflow: auto;}#sk-container-id-5 input.sk-toggleable__control:checked~label.sk-toggleable__label-arrow:before {content: \"▾\";}#sk-container-id-5 div.sk-estimator input.sk-toggleable__control:checked~label.sk-toggleable__label {background-color: #d4ebff;}#sk-container-id-5 div.sk-label input.sk-toggleable__control:checked~label.sk-toggleable__label {background-color: #d4ebff;}#sk-container-id-5 input.sk-hidden--visually {border: 0;clip: rect(1px 1px 1px 1px);clip: rect(1px, 1px, 1px, 1px);height: 1px;margin: -1px;overflow: hidden;padding: 0;position: absolute;width: 1px;}#sk-container-id-5 div.sk-estimator {font-family: monospace;background-color: #f0f8ff;border: 1px dotted black;border-radius: 0.25em;box-sizing: border-box;margin-bottom: 0.5em;}#sk-container-id-5 div.sk-estimator:hover {background-color: #d4ebff;}#sk-container-id-5 div.sk-parallel-item::after {content: \"\";width: 100%;border-bottom: 1px solid gray;flex-grow: 1;}#sk-container-id-5 div.sk-label:hover label.sk-toggleable__label {background-color: #d4ebff;}#sk-container-id-5 div.sk-serial::before {content: \"\";position: absolute;border-left: 1px solid gray;box-sizing: border-box;top: 0;bottom: 0;left: 50%;z-index: 0;}#sk-container-id-5 div.sk-serial {display: flex;flex-direction: column;align-items: center;background-color: white;padding-right: 0.2em;padding-left: 0.2em;position: relative;}#sk-container-id-5 div.sk-item {position: relative;z-index: 1;}#sk-container-id-5 div.sk-parallel {display: flex;align-items: stretch;justify-content: center;background-color: white;position: relative;}#sk-container-id-5 div.sk-item::before, #sk-container-id-5 div.sk-parallel-item::before {content: \"\";position: absolute;border-left: 1px solid gray;box-sizing: border-box;top: 0;bottom: 0;left: 50%;z-index: -1;}#sk-container-id-5 div.sk-parallel-item {display: flex;flex-direction: column;z-index: 1;position: relative;background-color: white;}#sk-container-id-5 div.sk-parallel-item:first-child::after {align-self: flex-end;width: 50%;}#sk-container-id-5 div.sk-parallel-item:last-child::after {align-self: flex-start;width: 50%;}#sk-container-id-5 div.sk-parallel-item:only-child::after {width: 0;}#sk-container-id-5 div.sk-dashed-wrapped {border: 1px dashed gray;margin: 0 0.4em 0.5em 0.4em;box-sizing: border-box;padding-bottom: 0.4em;background-color: white;}#sk-container-id-5 div.sk-label label {font-family: monospace;font-weight: bold;display: inline-block;line-height: 1.2em;}#sk-container-id-5 div.sk-label-container {text-align: center;}#sk-container-id-5 div.sk-container {/* jupyter's `normalize.less` sets `[hidden] { display: none; }` but bootstrap.min.css set `[hidden] { display: none !important; }` so we also need the `!important` here to be able to override the default hidden behavior on the sphinx rendered scikit-learn.org. See: https://github.com/scikit-learn/scikit-learn/issues/21755 */display: inline-block !important;position: relative;}#sk-container-id-5 div.sk-text-repr-fallback {display: none;}</style><div id=\"sk-container-id-5\" class=\"sk-top-container\"><div class=\"sk-text-repr-fallback\"><pre>KNeighborsClassifier(weights=&#x27;distance&#x27;)</pre><b>In a Jupyter environment, please rerun this cell to show the HTML representation or trust the notebook. <br />On GitHub, the HTML representation is unable to render, please try loading this page with nbviewer.org.</b></div><div class=\"sk-container\" hidden><div class=\"sk-item\"><div class=\"sk-estimator sk-toggleable\"><input class=\"sk-toggleable__control sk-hidden--visually\" id=\"sk-estimator-id-5\" type=\"checkbox\" checked><label for=\"sk-estimator-id-5\" class=\"sk-toggleable__label sk-toggleable__label-arrow\">KNeighborsClassifier</label><div class=\"sk-toggleable__content\"><pre>KNeighborsClassifier(weights=&#x27;distance&#x27;)</pre></div></div></div></div></div>"
            ]
          },
          "metadata": {},
          "execution_count": 42
        }
      ],
      "source": [
        "# Your code here (add more cells as needed)  weights='distance'\n",
        "\n",
        "# This model gives more weight to closer neighbors\n",
        "knn_closer_model = KNeighborsClassifier(weights='distance')\n",
        "\n",
        "knn_closer_model.fit(X_train, y_train)\n"
      ]
    },
    {
      "cell_type": "code",
      "source": [
        "from sklearn.metrics import log_loss, accuracy_score, precision_score, recall_score,  confusion_matrix,\\\n",
        "precision_recall_fscore_support, f1_score, roc_auc_score, roc_curve"
      ],
      "metadata": {
        "id": "JpF7MiStRPIl"
      },
      "execution_count": 12,
      "outputs": []
    },
    {
      "cell_type": "code",
      "source": [
        "# Your code here (add more cells as needed)\n",
        "y_pred = knn_closer_model.predict(X_test_scaled)\n",
        "\n",
        "# Accuracy\n",
        "acc = accuracy_score(y_test, y_pred) * 100\n",
        "print(\"Accuracy: {0}\".format(acc))\n",
        "\n",
        "# Precision\n",
        "precision = precision_score(y_test, y_pred)\n",
        "print(\"Precision: {0}\".format(precision))\n",
        "\n",
        "# Recall\n",
        "recall = recall_score(y_test, y_pred)\n",
        "print(\"Recall: {0}\".format(recall))\n",
        "\n",
        "# F1 score\n",
        "f1 = f1_score(y_test, y_pred)\n",
        "print(\"F1 Score: {0}\".format(f1))"
      ],
      "metadata": {
        "colab": {
          "base_uri": "https://localhost:8080/"
        },
        "id": "n9LqoIKdhmgV",
        "outputId": "a43e911d-bb0d-4626-9831-7eb5b7013308"
      },
      "execution_count": 43,
      "outputs": [
        {
          "output_type": "stream",
          "name": "stderr",
          "text": [
            "/usr/local/lib/python3.10/dist-packages/sklearn/base.py:439: UserWarning: X does not have valid feature names, but KNeighborsClassifier was fitted with feature names\n",
            "  warnings.warn(\n"
          ]
        },
        {
          "output_type": "stream",
          "name": "stdout",
          "text": [
            "Accuracy: 92.86307916060669\n",
            "Precision: 0.0\n",
            "Recall: 0.0\n",
            "F1 Score: 0.0\n"
          ]
        },
        {
          "output_type": "stream",
          "name": "stderr",
          "text": [
            "/usr/local/lib/python3.10/dist-packages/sklearn/metrics/_classification.py:1344: UndefinedMetricWarning: Precision is ill-defined and being set to 0.0 due to no predicted samples. Use `zero_division` parameter to control this behavior.\n",
            "  _warn_prf(average, modifier, msg_start, len(result))\n"
          ]
        }
      ]
    },
    {
      "cell_type": "code",
      "source": [
        "knn_closer_log_loss_mean = -cross_val_score(knn_closer_model, X_train_scaled, y_train, scoring=\"neg_log_loss\").mean()\n",
        "knn_closer_log_loss_mean"
      ],
      "metadata": {
        "colab": {
          "base_uri": "https://localhost:8080/"
        },
        "id": "t-psrKRgVNce",
        "outputId": "6695fdb6-0302-42d8-f78c-47289b87e77b"
      },
      "execution_count": 45,
      "outputs": [
        {
          "output_type": "execute_result",
          "data": {
            "text/plain": [
              "0.1263839716580627"
            ]
          },
          "metadata": {},
          "execution_count": 45
        }
      ]
    },
    {
      "cell_type": "code",
      "source": [
        "# This model gives more weight to closer neighbors and adds more neighbors\n",
        "knn_closer_more_neighbors_model = KNeighborsClassifier(n_neighbors=7, weights='distance')\n",
        "\n",
        "knn_closer_more_neighbors_model.fit(X_train, y_train)"
      ],
      "metadata": {
        "colab": {
          "base_uri": "https://localhost:8080/",
          "height": 75
        },
        "id": "Rz94UKHcTQ4o",
        "outputId": "5b451060-de56-4976-ad66-c65f92696b7e"
      },
      "execution_count": 46,
      "outputs": [
        {
          "output_type": "execute_result",
          "data": {
            "text/plain": [
              "KNeighborsClassifier(n_neighbors=7, weights='distance')"
            ],
            "text/html": [
              "<style>#sk-container-id-6 {color: black;background-color: white;}#sk-container-id-6 pre{padding: 0;}#sk-container-id-6 div.sk-toggleable {background-color: white;}#sk-container-id-6 label.sk-toggleable__label {cursor: pointer;display: block;width: 100%;margin-bottom: 0;padding: 0.3em;box-sizing: border-box;text-align: center;}#sk-container-id-6 label.sk-toggleable__label-arrow:before {content: \"▸\";float: left;margin-right: 0.25em;color: #696969;}#sk-container-id-6 label.sk-toggleable__label-arrow:hover:before {color: black;}#sk-container-id-6 div.sk-estimator:hover label.sk-toggleable__label-arrow:before {color: black;}#sk-container-id-6 div.sk-toggleable__content {max-height: 0;max-width: 0;overflow: hidden;text-align: left;background-color: #f0f8ff;}#sk-container-id-6 div.sk-toggleable__content pre {margin: 0.2em;color: black;border-radius: 0.25em;background-color: #f0f8ff;}#sk-container-id-6 input.sk-toggleable__control:checked~div.sk-toggleable__content {max-height: 200px;max-width: 100%;overflow: auto;}#sk-container-id-6 input.sk-toggleable__control:checked~label.sk-toggleable__label-arrow:before {content: \"▾\";}#sk-container-id-6 div.sk-estimator input.sk-toggleable__control:checked~label.sk-toggleable__label {background-color: #d4ebff;}#sk-container-id-6 div.sk-label input.sk-toggleable__control:checked~label.sk-toggleable__label {background-color: #d4ebff;}#sk-container-id-6 input.sk-hidden--visually {border: 0;clip: rect(1px 1px 1px 1px);clip: rect(1px, 1px, 1px, 1px);height: 1px;margin: -1px;overflow: hidden;padding: 0;position: absolute;width: 1px;}#sk-container-id-6 div.sk-estimator {font-family: monospace;background-color: #f0f8ff;border: 1px dotted black;border-radius: 0.25em;box-sizing: border-box;margin-bottom: 0.5em;}#sk-container-id-6 div.sk-estimator:hover {background-color: #d4ebff;}#sk-container-id-6 div.sk-parallel-item::after {content: \"\";width: 100%;border-bottom: 1px solid gray;flex-grow: 1;}#sk-container-id-6 div.sk-label:hover label.sk-toggleable__label {background-color: #d4ebff;}#sk-container-id-6 div.sk-serial::before {content: \"\";position: absolute;border-left: 1px solid gray;box-sizing: border-box;top: 0;bottom: 0;left: 50%;z-index: 0;}#sk-container-id-6 div.sk-serial {display: flex;flex-direction: column;align-items: center;background-color: white;padding-right: 0.2em;padding-left: 0.2em;position: relative;}#sk-container-id-6 div.sk-item {position: relative;z-index: 1;}#sk-container-id-6 div.sk-parallel {display: flex;align-items: stretch;justify-content: center;background-color: white;position: relative;}#sk-container-id-6 div.sk-item::before, #sk-container-id-6 div.sk-parallel-item::before {content: \"\";position: absolute;border-left: 1px solid gray;box-sizing: border-box;top: 0;bottom: 0;left: 50%;z-index: -1;}#sk-container-id-6 div.sk-parallel-item {display: flex;flex-direction: column;z-index: 1;position: relative;background-color: white;}#sk-container-id-6 div.sk-parallel-item:first-child::after {align-self: flex-end;width: 50%;}#sk-container-id-6 div.sk-parallel-item:last-child::after {align-self: flex-start;width: 50%;}#sk-container-id-6 div.sk-parallel-item:only-child::after {width: 0;}#sk-container-id-6 div.sk-dashed-wrapped {border: 1px dashed gray;margin: 0 0.4em 0.5em 0.4em;box-sizing: border-box;padding-bottom: 0.4em;background-color: white;}#sk-container-id-6 div.sk-label label {font-family: monospace;font-weight: bold;display: inline-block;line-height: 1.2em;}#sk-container-id-6 div.sk-label-container {text-align: center;}#sk-container-id-6 div.sk-container {/* jupyter's `normalize.less` sets `[hidden] { display: none; }` but bootstrap.min.css set `[hidden] { display: none !important; }` so we also need the `!important` here to be able to override the default hidden behavior on the sphinx rendered scikit-learn.org. See: https://github.com/scikit-learn/scikit-learn/issues/21755 */display: inline-block !important;position: relative;}#sk-container-id-6 div.sk-text-repr-fallback {display: none;}</style><div id=\"sk-container-id-6\" class=\"sk-top-container\"><div class=\"sk-text-repr-fallback\"><pre>KNeighborsClassifier(n_neighbors=7, weights=&#x27;distance&#x27;)</pre><b>In a Jupyter environment, please rerun this cell to show the HTML representation or trust the notebook. <br />On GitHub, the HTML representation is unable to render, please try loading this page with nbviewer.org.</b></div><div class=\"sk-container\" hidden><div class=\"sk-item\"><div class=\"sk-estimator sk-toggleable\"><input class=\"sk-toggleable__control sk-hidden--visually\" id=\"sk-estimator-id-6\" type=\"checkbox\" checked><label for=\"sk-estimator-id-6\" class=\"sk-toggleable__label sk-toggleable__label-arrow\">KNeighborsClassifier</label><div class=\"sk-toggleable__content\"><pre>KNeighborsClassifier(n_neighbors=7, weights=&#x27;distance&#x27;)</pre></div></div></div></div></div>"
            ]
          },
          "metadata": {},
          "execution_count": 46
        }
      ]
    },
    {
      "cell_type": "code",
      "source": [
        "# Your code here (add more cells as needed)\n",
        "y_pred = knn_closer_more_neighbors_model.predict(X_test_scaled)\n",
        "\n",
        "# Accuracy\n",
        "acc = accuracy_score(y_test, y_pred) * 100\n",
        "print(\"Accuracy: {0}\".format(acc))\n",
        "\n",
        "# Precision\n",
        "precision = precision_score(y_test, y_pred)\n",
        "print(\"Precision: {0}\".format(precision))\n",
        "\n",
        "# Recall\n",
        "recall = recall_score(y_test, y_pred)\n",
        "print(\"Recall: {0}\".format(recall))\n",
        "\n",
        "# F1 score\n",
        "f1 = f1_score(y_test, y_pred)\n",
        "print(\"F1 Score: {0}\".format(f1))"
      ],
      "metadata": {
        "colab": {
          "base_uri": "https://localhost:8080/"
        },
        "id": "wMe9drUzThmp",
        "outputId": "f5dcef4e-a567-4c62-b5a6-e2f1d222590a"
      },
      "execution_count": 47,
      "outputs": [
        {
          "output_type": "stream",
          "name": "stderr",
          "text": [
            "/usr/local/lib/python3.10/dist-packages/sklearn/base.py:439: UserWarning: X does not have valid feature names, but KNeighborsClassifier was fitted with feature names\n",
            "  warnings.warn(\n"
          ]
        },
        {
          "output_type": "stream",
          "name": "stdout",
          "text": [
            "Accuracy: 92.86307916060669\n",
            "Precision: 0.0\n",
            "Recall: 0.0\n",
            "F1 Score: 0.0\n"
          ]
        },
        {
          "output_type": "stream",
          "name": "stderr",
          "text": [
            "/usr/local/lib/python3.10/dist-packages/sklearn/metrics/_classification.py:1344: UndefinedMetricWarning: Precision is ill-defined and being set to 0.0 due to no predicted samples. Use `zero_division` parameter to control this behavior.\n",
            "  _warn_prf(average, modifier, msg_start, len(result))\n"
          ]
        }
      ]
    },
    {
      "cell_type": "code",
      "source": [
        "knn_closer_more_neigh_log_loss_mean = -cross_val_score(knn_closer_more_neighbors_model, X_train_scaled, y_train, scoring=\"neg_log_loss\").mean()\n",
        "knn_closer_more_neigh_log_loss_mean"
      ],
      "metadata": {
        "colab": {
          "base_uri": "https://localhost:8080/"
        },
        "id": "RLtPok05UvnS",
        "outputId": "7707d1b6-0e5c-4024-e956-c565bd0c4b88"
      },
      "execution_count": 48,
      "outputs": [
        {
          "output_type": "execute_result",
          "data": {
            "text/plain": [
              "0.08798017410189538"
            ]
          },
          "metadata": {},
          "execution_count": 48
        }
      ]
    },
    {
      "cell_type": "code",
      "source": [
        "\"\"\"\n",
        "Employing the log loss metric, weighting the closer neighbors beat the baseline model. Then adding more neighbors (7 from the default 5) outperforms both the baseline model and the\n",
        "'knn_closer_model' that weighted the closer neighbors more heavily but left the n_neighbors with the default 5. Yet both models seem to be predicting the majority class based on the accuracy scores above.\n",
        "\"\"\""
      ],
      "metadata": {
        "id": "ywd9YV2TUAJC"
      },
      "execution_count": null,
      "outputs": []
    },
    {
      "cell_type": "markdown",
      "metadata": {
        "id": "_406Zb-lFcdS"
      },
      "source": [
        "## 4. Build a Baseline Decision Tree Model\n",
        "\n",
        "Now that you have chosen your best kNN model, start investigating decision tree models. First, build and evaluate a baseline decision tree model, using default hyperparameters (with the exception of `random_state=42` for reproducibility).\n",
        "\n",
        "(Use cross-validated log loss, just like with the previous models.)"
      ]
    },
    {
      "cell_type": "code",
      "execution_count": 22,
      "metadata": {
        "colab": {
          "base_uri": "https://localhost:8080/"
        },
        "id": "hugckvupFcdS",
        "outputId": "5bab8174-bd71-4067-8a6b-e41a15bebaca"
      },
      "outputs": [
        {
          "output_type": "execute_result",
          "data": {
            "text/plain": [
              "0.7364763809378052"
            ]
          },
          "metadata": {},
          "execution_count": 22
        }
      ],
      "source": [
        "# Your code here\n",
        "from sklearn.tree import DecisionTreeClassifier,  plot_tree\n",
        "# Instantiate and fit decision tree model\n",
        "tree_clf = DecisionTreeClassifier(random_state=42)\n",
        "# train the model\n",
        "tree_clf.fit(X_train, y_train)\n",
        "# evaulate the model\n",
        "\n",
        "tree_baseline_log_loss_mean = -cross_val_score(tree_clf, X_train_scaled, y_train, scoring=\"neg_log_loss\").mean()\n",
        "tree_baseline_log_loss_mean\n"
      ]
    },
    {
      "cell_type": "code",
      "source": [
        "# Your code here (add more cells as needed)\n",
        "y_pred = tree_clf.predict(X_test)\n",
        "\n",
        "# Accuracy\n",
        "acc = accuracy_score(y_test, y_pred) * 100\n",
        "print(\"Accuracy: {0}\".format(acc))\n",
        "\n",
        "# Precision\n",
        "precision = precision_score(y_test, y_pred)\n",
        "print(\"Precision: {0}\".format(precision))\n",
        "\n",
        "# Recall\n",
        "recall = recall_score(y_test, y_pred)\n",
        "print(\"Recall: {0}\".format(recall))\n",
        "\n",
        "# F1 score\n",
        "f1 = f1_score(y_test, y_pred)\n",
        "print(\"F1 Score: {0}\".format(f1))"
      ],
      "metadata": {
        "colab": {
          "base_uri": "https://localhost:8080/"
        },
        "id": "9YaAMD1HXyxC",
        "outputId": "f9377261-fbe5-423b-f750-bbc5675c3dca"
      },
      "execution_count": 23,
      "outputs": [
        {
          "output_type": "stream",
          "name": "stdout",
          "text": [
            "Accuracy: 97.82879700810305\n",
            "Precision: 0.8319444444444445\n",
            "Recall: 0.8719068413391557\n",
            "F1 Score: 0.8514570007107322\n"
          ]
        }
      ]
    },
    {
      "cell_type": "markdown",
      "metadata": {
        "id": "e9t9YT_wFcdS"
      },
      "source": [
        "Interpret this score. How does this compare to the log loss from our best logistic regression and best kNN models? Any guesses about why?"
      ]
    },
    {
      "cell_type": "code",
      "execution_count": null,
      "metadata": {
        "id": "-BuKSIZhFcdS"
      },
      "outputs": [],
      "source": [
        "# Replace None with appropriate text\n",
        "\"\"\"\n",
        "Decision Trees are prone to overfitting so it makes sense that the baseline decision tree would score much worse than our best performing\n",
        "logistic regression and KNN mmodels.\n",
        "\"\"\""
      ]
    },
    {
      "cell_type": "markdown",
      "metadata": {
        "id": "9sUfM7V6FcdS"
      },
      "source": [
        "## 5. Build Iterative Models to Find the Best Decision Tree Model\n",
        "\n",
        "Build and evaluate at least two more decision tree models to find the best one. Explain why you are changing the hyperparameters you are changing as you go."
      ]
    },
    {
      "cell_type": "code",
      "execution_count": 25,
      "metadata": {
        "colab": {
          "base_uri": "https://localhost:8080/",
          "height": 494
        },
        "id": "ZvHf7Gn9FcdS",
        "outputId": "788e7217-6c39-4da5-e16b-b86bac9cbfbc"
      },
      "outputs": [
        {
          "output_type": "display_data",
          "data": {
            "text/plain": [
              "<Figure size 1500x500 with 1 Axes>"
            ],
            "image/png": "[encoded data removed]"
          },
          "metadata": {}
        }
      ],
      "source": [
        "# Your code here (add more cells as needed)\n",
        "import numpy as np\n",
        "import matplotlib.pyplot as plt\n",
        "# function for fitting trees of various depths on the training data using cross-validation\n",
        "def run_cross_validation_on_trees(X, y, tree_depths, cv=5, scoring='accuracy'):\n",
        "    cv_scores_list = []\n",
        "    cv_scores_std = []\n",
        "    cv_scores_mean = []\n",
        "    accuracy_scores = []\n",
        "    for depth in tree_depths:\n",
        "        tree_model = DecisionTreeClassifier(max_depth=depth)\n",
        "        cv_scores = cross_val_score(tree_model, X, y, cv=cv, scoring=scoring)\n",
        "        cv_scores_list.append(cv_scores)\n",
        "        cv_scores_mean.append(cv_scores.mean())\n",
        "        cv_scores_std.append(cv_scores.std())\n",
        "        accuracy_scores.append(tree_model.fit(X, y).score(X, y))\n",
        "    cv_scores_mean = np.array(cv_scores_mean)\n",
        "    cv_scores_std = np.array(cv_scores_std)\n",
        "    accuracy_scores = np.array(accuracy_scores)\n",
        "    return cv_scores_mean, cv_scores_std, accuracy_scores\n",
        "\n",
        "# function for plotting cross-validation results\n",
        "def plot_cross_validation_on_trees(depths, cv_scores_mean, cv_scores_std, accuracy_scores, title):\n",
        "    fig, ax = plt.subplots(1,1, figsize=(15,5))\n",
        "    ax.plot(depths, cv_scores_mean, '-o', label='mean cross-validation accuracy', alpha=0.9)\n",
        "    ax.fill_between(depths, cv_scores_mean-2*cv_scores_std, cv_scores_mean+2*cv_scores_std, alpha=0.2)\n",
        "    ylim = plt.ylim()\n",
        "    ax.plot(depths, accuracy_scores, '-*', label='train accuracy', alpha=0.9)\n",
        "    ax.set_title(title, fontsize=16)\n",
        "    ax.set_xlabel('Tree depth', fontsize=14)\n",
        "    ax.set_ylabel('Accuracy', fontsize=14)\n",
        "    ax.set_ylim(ylim)\n",
        "    ax.set_xticks(depths)\n",
        "    ax.legend()\n",
        "\n",
        "# fitting trees of depth 1 to 24\n",
        "sm_tree_depths = range(1,25)\n",
        "sm_cv_scores_mean, sm_cv_scores_std, sm_accuracy_scores = run_cross_validation_on_trees(X_train, y_train, sm_tree_depths)\n",
        "\n",
        "# plotting accuracy\n",
        "plot_cross_validation_on_trees(sm_tree_depths, sm_cv_scores_mean, sm_cv_scores_std, sm_accuracy_scores,\n",
        "                               'Accuracy per decision tree depth on training data')"
      ]
    },
    {
      "cell_type": "code",
      "execution_count": 26,
      "metadata": {
        "colab": {
          "base_uri": "https://localhost:8080/"
        },
        "id": "JqJ4hjSTFcdS",
        "outputId": "74a1aed0-ab29-478c-88c9-58761bbd87d0"
      },
      "outputs": [
        {
          "output_type": "stream",
          "name": "stdout",
          "text": [
            "The depth-15 tree achieves the best mean cross-validation accuracy 98.06407 +/- 0.28208% on training dataset\n"
          ]
        }
      ],
      "source": [
        "# Your code here (add more cells as needed)\n",
        "idx_max = sm_cv_scores_mean.argmax()\n",
        "sm_best_tree_depth = sm_tree_depths[idx_max]\n",
        "sm_best_tree_cv_score = sm_cv_scores_mean[idx_max]\n",
        "sm_best_tree_cv_score_std = sm_cv_scores_std[idx_max]\n",
        "print('The depth-{} tree achieves the best mean cross-validation accuracy {} +/- {}% on training dataset'.format(\n",
        "      sm_best_tree_depth, round(sm_best_tree_cv_score*100,5), round(sm_best_tree_cv_score_std*100, 5)))"
      ]
    },
    {
      "cell_type": "code",
      "execution_count": 27,
      "metadata": {
        "colab": {
          "base_uri": "https://localhost:8080/"
        },
        "id": "l-_tBMJJFcdS",
        "outputId": "d0a5b955-f402-4381-a412-b9a656cb18af"
      },
      "outputs": [
        {
          "output_type": "execute_result",
          "data": {
            "text/plain": [
              "0.6582582688194408"
            ]
          },
          "metadata": {},
          "execution_count": 27
        }
      ],
      "source": [
        "# Your code here (add more cells as needed)\n",
        "# Instantiate and fit decision tree model with max_depth=15 as recommended by the accuracy function above\n",
        "tree_15_clf = DecisionTreeClassifier(max_depth=15,random_state=42)\n",
        "# train the model\n",
        "tree_15_clf.fit(X_train, y_train)\n",
        "# evaulate the model\n",
        "tree_15_log_loss_mean = -cross_val_score(tree_15_clf, X_train_scaled, y_train, scoring=\"neg_log_loss\").mean()\n",
        "tree_15_log_loss_mean"
      ]
    },
    {
      "cell_type": "code",
      "source": [
        "# Your code here (add more cells as needed)\n",
        "y_pred = tree_15_clf.predict(X_test)\n",
        "\n",
        "# Accuracy\n",
        "acc = accuracy_score(y_test, y_pred) * 100\n",
        "print(\"Accuracy: {0}\".format(acc))\n",
        "\n",
        "# Precision\n",
        "precision = precision_score(y_test, y_pred)\n",
        "print(\"Precision: {0}\".format(precision))\n",
        "\n",
        "# Recall\n",
        "recall = recall_score(y_test, y_pred)\n",
        "print(\"Recall: {0}\".format(recall))\n",
        "\n",
        "# F1 score\n",
        "f1 = f1_score(y_test, y_pred)\n",
        "print(\"F1 Score: {0}\".format(f1))"
      ],
      "metadata": {
        "colab": {
          "base_uri": "https://localhost:8080/"
        },
        "id": "gjpdLZ1qZ8li",
        "outputId": "09b7c9f4-07d4-46c3-ba33-278047a8a57f"
      },
      "execution_count": 28,
      "outputs": [
        {
          "output_type": "stream",
          "name": "stdout",
          "text": [
            "Accuracy: 97.81840847704134\n",
            "Precision: 0.8289655172413793\n",
            "Recall: 0.8748180494905385\n",
            "F1 Score: 0.8512747875354107\n"
          ]
        }
      ]
    },
    {
      "cell_type": "code",
      "source": [
        "# min_samples_leaf\n",
        "# Your code here (add more cells as needed)\n",
        "# Instantiate and fit decision tree model with max_depth=15 as recommended by the accuracy function above\n",
        "# AND set the minimum number of samples required to be at a leaf node\n",
        "tree_15_samples_clf = DecisionTreeClassifier(max_depth=15,min_samples_leaf=500,random_state=42)\n",
        "# train the model\n",
        "tree_15_samples_clf.fit(X_train, y_train)\n",
        "# evaulate the model\n",
        "tree_15_samples_log_loss_mean = -cross_val_score(tree_15_samples_clf, X_train_scaled, y_train, scoring=\"neg_log_loss\").mean()\n",
        "tree_15_samples_log_loss_mean"
      ],
      "metadata": {
        "colab": {
          "base_uri": "https://localhost:8080/"
        },
        "id": "CIBN5SxZbPPG",
        "outputId": "a7c21e16-5043-4fe7-e967-e89cebcbbb25"
      },
      "execution_count": 30,
      "outputs": [
        {
          "output_type": "execute_result",
          "data": {
            "text/plain": [
              "0.14236600903893898"
            ]
          },
          "metadata": {},
          "execution_count": 30
        }
      ]
    },
    {
      "cell_type": "code",
      "source": [
        "# Your code here (add more cells as needed)\n",
        "y_pred = tree_15_samples_clf.predict(X_test)\n",
        "\n",
        "# Accuracy\n",
        "acc = accuracy_score(y_test, y_pred) * 100\n",
        "print(\"Accuracy: {0}\".format(acc))\n",
        "\n",
        "# Precision\n",
        "precision = precision_score(y_test, y_pred)\n",
        "print(\"Precision: {0}\".format(precision))\n",
        "\n",
        "# Recall\n",
        "recall = recall_score(y_test, y_pred)\n",
        "print(\"Recall: {0}\".format(recall))\n",
        "\n",
        "# F1 score\n",
        "f1 = f1_score(y_test, y_pred)\n",
        "print(\"F1 Score: {0}\".format(f1))"
      ],
      "metadata": {
        "colab": {
          "base_uri": "https://localhost:8080/"
        },
        "id": "PPGzm7CCb1P3",
        "outputId": "ed488c18-34a6-4ae1-fd0f-b9b93a336d85"
      },
      "execution_count": 31,
      "outputs": [
        {
          "output_type": "stream",
          "name": "stdout",
          "text": [
            "Accuracy: 94.61874091003533\n",
            "Precision: 0.7217847769028871\n",
            "Recall: 0.4002911208151383\n",
            "F1 Score: 0.5149812734082396\n"
          ]
        }
      ]
    },
    {
      "cell_type": "code",
      "source": [
        "\"\"\"\n",
        "Log loss went down with the second tree, but all the other evaluation metrics are worse. Once again it depends on the use case and\n",
        "business problem. But looking at log loss only (as instructed) our second decision tree with the max_depth of 15 and the min_samples_leaf of 500\n",
        "performed better than the previous decision tree that only set the max depth at 15.\n",
        "\"\"\""
      ],
      "metadata": {
        "id": "-xsnPMRgb-a3"
      },
      "execution_count": null,
      "outputs": []
    },
    {
      "cell_type": "markdown",
      "metadata": {
        "id": "ADNHgCi_FcdS"
      },
      "source": [
        "## 6. Choose and Evaluate an Overall Best Model\n",
        "\n",
        "Which model had the best performance? What type of model was it?\n",
        "\n",
        "Instantiate a variable `final_model` using your best model with the best hyperparameters."
      ]
    },
    {
      "cell_type": "code",
      "execution_count": 49,
      "metadata": {
        "colab": {
          "base_uri": "https://localhost:8080/",
          "height": 75
        },
        "id": "dK8lgHRuFcdS",
        "outputId": "0c955e4c-2311-491c-866a-2f9a648c009d"
      },
      "outputs": [
        {
          "output_type": "execute_result",
          "data": {
            "text/plain": [
              "KNeighborsClassifier(n_neighbors=7, weights='distance')"
            ],
            "text/html": [
              "<style>#sk-container-id-7 {color: black;background-color: white;}#sk-container-id-7 pre{padding: 0;}#sk-container-id-7 div.sk-toggleable {background-color: white;}#sk-container-id-7 label.sk-toggleable__label {cursor: pointer;display: block;width: 100%;margin-bottom: 0;padding: 0.3em;box-sizing: border-box;text-align: center;}#sk-container-id-7 label.sk-toggleable__label-arrow:before {content: \"▸\";float: left;margin-right: 0.25em;color: #696969;}#sk-container-id-7 label.sk-toggleable__label-arrow:hover:before {color: black;}#sk-container-id-7 div.sk-estimator:hover label.sk-toggleable__label-arrow:before {color: black;}#sk-container-id-7 div.sk-toggleable__content {max-height: 0;max-width: 0;overflow: hidden;text-align: left;background-color: #f0f8ff;}#sk-container-id-7 div.sk-toggleable__content pre {margin: 0.2em;color: black;border-radius: 0.25em;background-color: #f0f8ff;}#sk-container-id-7 input.sk-toggleable__control:checked~div.sk-toggleable__content {max-height: 200px;max-width: 100%;overflow: auto;}#sk-container-id-7 input.sk-toggleable__control:checked~label.sk-toggleable__label-arrow:before {content: \"▾\";}#sk-container-id-7 div.sk-estimator input.sk-toggleable__control:checked~label.sk-toggleable__label {background-color: #d4ebff;}#sk-container-id-7 div.sk-label input.sk-toggleable__control:checked~label.sk-toggleable__label {background-color: #d4ebff;}#sk-container-id-7 input.sk-hidden--visually {border: 0;clip: rect(1px 1px 1px 1px);clip: rect(1px, 1px, 1px, 1px);height: 1px;margin: -1px;overflow: hidden;padding: 0;position: absolute;width: 1px;}#sk-container-id-7 div.sk-estimator {font-family: monospace;background-color: #f0f8ff;border: 1px dotted black;border-radius: 0.25em;box-sizing: border-box;margin-bottom: 0.5em;}#sk-container-id-7 div.sk-estimator:hover {background-color: #d4ebff;}#sk-container-id-7 div.sk-parallel-item::after {content: \"\";width: 100%;border-bottom: 1px solid gray;flex-grow: 1;}#sk-container-id-7 div.sk-label:hover label.sk-toggleable__label {background-color: #d4ebff;}#sk-container-id-7 div.sk-serial::before {content: \"\";position: absolute;border-left: 1px solid gray;box-sizing: border-box;top: 0;bottom: 0;left: 50%;z-index: 0;}#sk-container-id-7 div.sk-serial {display: flex;flex-direction: column;align-items: center;background-color: white;padding-right: 0.2em;padding-left: 0.2em;position: relative;}#sk-container-id-7 div.sk-item {position: relative;z-index: 1;}#sk-container-id-7 div.sk-parallel {display: flex;align-items: stretch;justify-content: center;background-color: white;position: relative;}#sk-container-id-7 div.sk-item::before, #sk-container-id-7 div.sk-parallel-item::before {content: \"\";position: absolute;border-left: 1px solid gray;box-sizing: border-box;top: 0;bottom: 0;left: 50%;z-index: -1;}#sk-container-id-7 div.sk-parallel-item {display: flex;flex-direction: column;z-index: 1;position: relative;background-color: white;}#sk-container-id-7 div.sk-parallel-item:first-child::after {align-self: flex-end;width: 50%;}#sk-container-id-7 div.sk-parallel-item:last-child::after {align-self: flex-start;width: 50%;}#sk-container-id-7 div.sk-parallel-item:only-child::after {width: 0;}#sk-container-id-7 div.sk-dashed-wrapped {border: 1px dashed gray;margin: 0 0.4em 0.5em 0.4em;box-sizing: border-box;padding-bottom: 0.4em;background-color: white;}#sk-container-id-7 div.sk-label label {font-family: monospace;font-weight: bold;display: inline-block;line-height: 1.2em;}#sk-container-id-7 div.sk-label-container {text-align: center;}#sk-container-id-7 div.sk-container {/* jupyter's `normalize.less` sets `[hidden] { display: none; }` but bootstrap.min.css set `[hidden] { display: none !important; }` so we also need the `!important` here to be able to override the default hidden behavior on the sphinx rendered scikit-learn.org. See: https://github.com/scikit-learn/scikit-learn/issues/21755 */display: inline-block !important;position: relative;}#sk-container-id-7 div.sk-text-repr-fallback {display: none;}</style><div id=\"sk-container-id-7\" class=\"sk-top-container\"><div class=\"sk-text-repr-fallback\"><pre>KNeighborsClassifier(n_neighbors=7, weights=&#x27;distance&#x27;)</pre><b>In a Jupyter environment, please rerun this cell to show the HTML representation or trust the notebook. <br />On GitHub, the HTML representation is unable to render, please try loading this page with nbviewer.org.</b></div><div class=\"sk-container\" hidden><div class=\"sk-item\"><div class=\"sk-estimator sk-toggleable\"><input class=\"sk-toggleable__control sk-hidden--visually\" id=\"sk-estimator-id-7\" type=\"checkbox\" checked><label for=\"sk-estimator-id-7\" class=\"sk-toggleable__label sk-toggleable__label-arrow\">KNeighborsClassifier</label><div class=\"sk-toggleable__content\"><pre>KNeighborsClassifier(n_neighbors=7, weights=&#x27;distance&#x27;)</pre></div></div></div></div></div>"
            ]
          },
          "metadata": {},
          "execution_count": 49
        }
      ],
      "source": [
        "# Replace None with appropriate code\n",
        "final_model = KNeighborsClassifier(n_neighbors=7, weights='distance')\n",
        "\n",
        "# Fit the model on the full training data\n",
        "# (scaled or unscaled depending on the model)\n",
        "final_model.fit(X_train_scaled, y_train)"
      ]
    },
    {
      "cell_type": "markdown",
      "metadata": {
        "id": "7NZ_uzYcFcdS"
      },
      "source": [
        "Now, evaluate the log loss, accuracy, precision, and recall. This code is mostly filled in for you, but you need to replace `None` with either `X_test` or `X_test_scaled` depending on the model you chose."
      ]
    },
    {
      "cell_type": "code",
      "execution_count": 50,
      "metadata": {
        "colab": {
          "base_uri": "https://localhost:8080/"
        },
        "id": "aDST0AKTFcdS",
        "outputId": "52786cd9-9f18-4ebf-ab0c-5898e5ecfb28"
      },
      "outputs": [
        {
          "output_type": "stream",
          "name": "stdout",
          "text": [
            "log loss:  0.09529714901808627\n",
            "accuracy:  0.9830666943694162\n",
            "precision: 0.906832298136646\n",
            "recall:    0.8500727802037845\n"
          ]
        }
      ],
      "source": [
        "# Replace None with appropriate code\n",
        "from sklearn.metrics import accuracy_score, precision_score, recall_score\n",
        "\n",
        "preds = final_model.predict(X_test_scaled)\n",
        "probs = final_model.predict_proba(X_test_scaled)\n",
        "\n",
        "print(\"log loss: \", log_loss(y_test, probs))\n",
        "print(\"accuracy: \", accuracy_score(y_test, preds))\n",
        "print(\"precision:\", precision_score(y_test, preds))\n",
        "print(\"recall:   \", recall_score(y_test, preds))"
      ]
    },
    {
      "cell_type": "code",
      "source": [
        "# Confusion matrix\n",
        "import seaborn as sns\n",
        "from sklearn.metrics import confusion_matrix\n",
        "\n",
        "# Pred\n",
        "y_pred = final_model.predict(X_test_scaled)\n",
        "cm = confusion_matrix(y_test, y_pred)\n",
        "\n",
        "# Plotting the confusion matrix\n",
        "sns.heatmap(cm, annot=True, fmt='g')\n",
        "plt.xlabel('Predicted')\n",
        "plt.ylabel('Actual')\n",
        "plt.show();"
      ],
      "metadata": {
        "colab": {
          "base_uri": "https://localhost:8080/",
          "height": 449
        },
        "id": "9CzQbo2zeYdL",
        "outputId": "4fa92447-356c-43c4-a711-f41f295f08ac"
      },
      "execution_count": 51,
      "outputs": [
        {
          "output_type": "display_data",
          "data": {
            "text/plain": [
              "<Figure size 640x480 with 2 Axes>"
            ],
            "image/png": "[encoded data removed]"
          },
          "metadata": {}
        }
      ]
    },
    {
      "cell_type": "markdown",
      "source": [
        "* TP = 584\n",
        "* TN = 8879\n",
        "* FP = 60\n",
        "* FN = 103"
      ],
      "metadata": {
        "id": "JnkNiLMfgkq9"
      }
    },
    {
      "cell_type": "markdown",
      "metadata": {
        "id": "GS9MQTLDFcdS"
      },
      "source": [
        "Interpret your model performance. How would it perform on different kinds of tasks? How much better is it than a \"dummy\" model that always chooses the majority class, or the logistic regression described at the start of the lab?"
      ]
    },
    {
      "cell_type": "code",
      "execution_count": null,
      "metadata": {
        "id": "9VjTG0lCFcdS"
      },
      "outputs": [],
      "source": [
        "# Replace None with appropriate text\n",
        "\"\"\"\n",
        "At 98% accuracy, this model is 6% more accurate than a model which would always predict the majority class. Looking at log loss, accuracy, precision, and recall;\n",
        "it would appear that our final model improved on the logistic regression model described at the top. However, the confusion matrix gives me pause.\n",
        "In order to accurately judge the efficacy of a given model, I would need to know more about what the goal is for said predictive model. Are we limiting false negatives or false positives?\n",
        "What is the primary use case for this model?\n",
        "\"\"\""
      ]
    },
    {
      "cell_type": "markdown",
      "metadata": {
        "id": "A-nKpH62FcdS"
      },
      "source": [
        "## Conclusion\n",
        "\n",
        "In this lab, you practiced the end-to-end machine learning process with multiple model algorithms, including tuning the hyperparameters for those different algorithms. You saw how nonparametric models can be more flexible than linear models, potentially leading to overfitting but also potentially reducing underfitting by being able to learn non-linear relationships between variables. You also likely saw how there can be a tradeoff between speed and performance, with good metrics correlating with slow speeds."
      ]
    }
  ],
  "metadata": {
    "kernelspec": {
      "display_name": "Python (learn-env)",
      "language": "python",
      "name": "learn-env"
    },
    "language_info": {
      "codemirror_mode": {
        "name": "ipython",
        "version": 3
      },
      "file_extension": ".py",
      "mimetype": "text/x-python",
      "name": "python",
      "nbconvert_exporter": "python",
      "pygments_lexer": "ipython3",
      "version": "3.8.5"
    },
    "colab": {
      "provenance": []
    }
  },
  "nbformat": 4,
  "nbformat_minor": 0
}